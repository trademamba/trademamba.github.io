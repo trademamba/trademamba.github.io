{
 "cells": [
  {
   "cell_type": "markdown",
   "id": "86eed672-8f96-4233-84b8-80bab3fac55a",
   "metadata": {},
   "source": [
    "# Libraries to Install"
   ]
  },
  {
   "cell_type": "code",
   "execution_count": 1,
   "id": "9773663b-01d7-4867-a60d-2c94da3cedb6",
   "metadata": {},
   "outputs": [
    {
     "name": "stdout",
     "output_type": "stream",
     "text": [
      "Requirement already satisfied: gradio in /home/hotaisle/miniconda3/lib/python3.13/site-packages (5.35.0)\n",
      "Requirement already satisfied: llama-index-core in /home/hotaisle/miniconda3/lib/python3.13/site-packages (0.12.46)\n",
      "Requirement already satisfied: llama-index-llms-ollama in /home/hotaisle/miniconda3/lib/python3.13/site-packages (0.6.2)\n",
      "Requirement already satisfied: llama-index-embeddings-ollama in /home/hotaisle/miniconda3/lib/python3.13/site-packages (0.6.0)\n",
      "Requirement already satisfied: aiofiles<25.0,>=22.0 in /home/hotaisle/miniconda3/lib/python3.13/site-packages (from gradio) (24.1.0)\n",
      "Requirement already satisfied: anyio<5.0,>=3.0 in /home/hotaisle/miniconda3/lib/python3.13/site-packages (from gradio) (4.9.0)\n",
      "Requirement already satisfied: audioop-lts<1.0 in /home/hotaisle/miniconda3/lib/python3.13/site-packages (from gradio) (0.2.1)\n",
      "Requirement already satisfied: fastapi<1.0,>=0.115.2 in /home/hotaisle/miniconda3/lib/python3.13/site-packages (from gradio) (0.115.14)\n",
      "Requirement already satisfied: ffmpy in /home/hotaisle/miniconda3/lib/python3.13/site-packages (from gradio) (0.6.0)\n",
      "Requirement already satisfied: gradio-client==1.10.4 in /home/hotaisle/miniconda3/lib/python3.13/site-packages (from gradio) (1.10.4)\n",
      "Requirement already satisfied: groovy~=0.1 in /home/hotaisle/miniconda3/lib/python3.13/site-packages (from gradio) (0.1.2)\n",
      "Requirement already satisfied: httpx>=0.24.1 in /home/hotaisle/miniconda3/lib/python3.13/site-packages (from gradio) (0.28.1)\n",
      "Requirement already satisfied: huggingface-hub>=0.28.1 in /home/hotaisle/miniconda3/lib/python3.13/site-packages (from gradio) (0.33.2)\n",
      "Requirement already satisfied: jinja2<4.0 in /home/hotaisle/miniconda3/lib/python3.13/site-packages (from gradio) (3.1.6)\n",
      "Requirement already satisfied: markupsafe<4.0,>=2.0 in /home/hotaisle/miniconda3/lib/python3.13/site-packages (from gradio) (3.0.2)\n",
      "Requirement already satisfied: numpy<3.0,>=1.0 in /home/hotaisle/miniconda3/lib/python3.13/site-packages (from gradio) (2.2.6)\n",
      "Requirement already satisfied: orjson~=3.0 in /home/hotaisle/miniconda3/lib/python3.13/site-packages (from gradio) (3.10.18)\n",
      "Requirement already satisfied: packaging in /home/hotaisle/miniconda3/lib/python3.13/site-packages (from gradio) (24.2)\n",
      "Requirement already satisfied: pandas<3.0,>=1.0 in /home/hotaisle/miniconda3/lib/python3.13/site-packages (from gradio) (2.2.3)\n",
      "Requirement already satisfied: pillow<12.0,>=8.0 in /home/hotaisle/miniconda3/lib/python3.13/site-packages (from gradio) (11.3.0)\n",
      "Requirement already satisfied: pydantic<2.12,>=2.0 in /home/hotaisle/miniconda3/lib/python3.13/site-packages (from gradio) (2.11.7)\n",
      "Requirement already satisfied: pydub in /home/hotaisle/miniconda3/lib/python3.13/site-packages (from gradio) (0.25.1)\n",
      "Requirement already satisfied: python-multipart>=0.0.18 in /home/hotaisle/miniconda3/lib/python3.13/site-packages (from gradio) (0.0.20)\n",
      "Requirement already satisfied: pyyaml<7.0,>=5.0 in /home/hotaisle/miniconda3/lib/python3.13/site-packages (from gradio) (6.0.2)\n",
      "Requirement already satisfied: ruff>=0.9.3 in /home/hotaisle/miniconda3/lib/python3.13/site-packages (from gradio) (0.12.2)\n",
      "Requirement already satisfied: safehttpx<0.2.0,>=0.1.6 in /home/hotaisle/miniconda3/lib/python3.13/site-packages (from gradio) (0.1.6)\n",
      "Requirement already satisfied: semantic-version~=2.0 in /home/hotaisle/miniconda3/lib/python3.13/site-packages (from gradio) (2.10.0)\n",
      "Requirement already satisfied: starlette<1.0,>=0.40.0 in /home/hotaisle/miniconda3/lib/python3.13/site-packages (from gradio) (0.46.2)\n",
      "Requirement already satisfied: tomlkit<0.14.0,>=0.12.0 in /home/hotaisle/miniconda3/lib/python3.13/site-packages (from gradio) (0.13.3)\n",
      "Requirement already satisfied: typer<1.0,>=0.12 in /home/hotaisle/miniconda3/lib/python3.13/site-packages (from gradio) (0.16.0)\n",
      "Requirement already satisfied: typing-extensions~=4.0 in /home/hotaisle/miniconda3/lib/python3.13/site-packages (from gradio) (4.12.2)\n",
      "Requirement already satisfied: uvicorn>=0.14.0 in /home/hotaisle/miniconda3/lib/python3.13/site-packages (from gradio) (0.35.0)\n",
      "Requirement already satisfied: fsspec in /home/hotaisle/miniconda3/lib/python3.13/site-packages (from gradio-client==1.10.4->gradio) (2025.5.1)\n",
      "Requirement already satisfied: websockets<16.0,>=10.0 in /home/hotaisle/miniconda3/lib/python3.13/site-packages (from gradio-client==1.10.4->gradio) (15.0.1)\n",
      "Requirement already satisfied: idna>=2.8 in /home/hotaisle/miniconda3/lib/python3.13/site-packages (from anyio<5.0,>=3.0->gradio) (3.7)\n",
      "Requirement already satisfied: sniffio>=1.1 in /home/hotaisle/miniconda3/lib/python3.13/site-packages (from anyio<5.0,>=3.0->gradio) (1.3.1)\n",
      "Requirement already satisfied: python-dateutil>=2.8.2 in /home/hotaisle/miniconda3/lib/python3.13/site-packages (from pandas<3.0,>=1.0->gradio) (2.9.0.post0)\n",
      "Requirement already satisfied: pytz>=2020.1 in /home/hotaisle/miniconda3/lib/python3.13/site-packages (from pandas<3.0,>=1.0->gradio) (2025.2)\n",
      "Requirement already satisfied: tzdata>=2022.7 in /home/hotaisle/miniconda3/lib/python3.13/site-packages (from pandas<3.0,>=1.0->gradio) (2025.2)\n",
      "Requirement already satisfied: annotated-types>=0.6.0 in /home/hotaisle/miniconda3/lib/python3.13/site-packages (from pydantic<2.12,>=2.0->gradio) (0.6.0)\n",
      "Requirement already satisfied: pydantic-core==2.33.2 in /home/hotaisle/miniconda3/lib/python3.13/site-packages (from pydantic<2.12,>=2.0->gradio) (2.33.2)\n",
      "Requirement already satisfied: typing-inspection>=0.4.0 in /home/hotaisle/miniconda3/lib/python3.13/site-packages (from pydantic<2.12,>=2.0->gradio) (0.4.1)\n",
      "Requirement already satisfied: click>=8.0.0 in /home/hotaisle/miniconda3/lib/python3.13/site-packages (from typer<1.0,>=0.12->gradio) (8.2.1)\n",
      "Requirement already satisfied: shellingham>=1.3.0 in /home/hotaisle/miniconda3/lib/python3.13/site-packages (from typer<1.0,>=0.12->gradio) (1.5.4)\n",
      "Requirement already satisfied: rich>=10.11.0 in /home/hotaisle/miniconda3/lib/python3.13/site-packages (from typer<1.0,>=0.12->gradio) (13.9.4)\n",
      "Requirement already satisfied: aiohttp<4,>=3.8.6 in /home/hotaisle/miniconda3/lib/python3.13/site-packages (from llama-index-core) (3.12.13)\n",
      "Requirement already satisfied: aiosqlite in /home/hotaisle/miniconda3/lib/python3.13/site-packages (from llama-index-core) (0.21.0)\n",
      "Requirement already satisfied: banks<3,>=2.0.0 in /home/hotaisle/miniconda3/lib/python3.13/site-packages (from llama-index-core) (2.1.3)\n",
      "Requirement already satisfied: dataclasses-json in /home/hotaisle/miniconda3/lib/python3.13/site-packages (from llama-index-core) (0.6.7)\n",
      "Requirement already satisfied: deprecated>=1.2.9.3 in /home/hotaisle/miniconda3/lib/python3.13/site-packages (from llama-index-core) (1.2.18)\n",
      "Requirement already satisfied: dirtyjson<2,>=1.0.8 in /home/hotaisle/miniconda3/lib/python3.13/site-packages (from llama-index-core) (1.0.8)\n",
      "Requirement already satisfied: filetype<2,>=1.2.0 in /home/hotaisle/miniconda3/lib/python3.13/site-packages (from llama-index-core) (1.2.0)\n",
      "Requirement already satisfied: llama-index-workflows<2,>=1.0.1 in /home/hotaisle/miniconda3/lib/python3.13/site-packages (from llama-index-core) (1.0.1)\n",
      "Requirement already satisfied: nest-asyncio<2,>=1.5.8 in /home/hotaisle/miniconda3/lib/python3.13/site-packages (from llama-index-core) (1.6.0)\n",
      "Requirement already satisfied: networkx>=3.0 in /home/hotaisle/miniconda3/lib/python3.13/site-packages (from llama-index-core) (3.5)\n",
      "Requirement already satisfied: nltk>3.8.1 in /home/hotaisle/miniconda3/lib/python3.13/site-packages (from llama-index-core) (3.9.1)\n",
      "Requirement already satisfied: requests>=2.31.0 in /home/hotaisle/miniconda3/lib/python3.13/site-packages (from llama-index-core) (2.32.3)\n",
      "Requirement already satisfied: setuptools>=80.9.0 in /home/hotaisle/miniconda3/lib/python3.13/site-packages (from llama-index-core) (80.9.0)\n",
      "Requirement already satisfied: sqlalchemy>=1.4.49 in /home/hotaisle/miniconda3/lib/python3.13/site-packages (from sqlalchemy[asyncio]>=1.4.49->llama-index-core) (2.0.41)\n",
      "Requirement already satisfied: tenacity!=8.4.0,<10.0.0,>=8.2.0 in /home/hotaisle/miniconda3/lib/python3.13/site-packages (from llama-index-core) (8.5.0)\n",
      "Requirement already satisfied: tiktoken>=0.7.0 in /home/hotaisle/miniconda3/lib/python3.13/site-packages (from llama-index-core) (0.9.0)\n",
      "Requirement already satisfied: tqdm<5,>=4.66.1 in /home/hotaisle/miniconda3/lib/python3.13/site-packages (from llama-index-core) (4.67.1)\n",
      "Requirement already satisfied: typing-inspect>=0.8.0 in /home/hotaisle/miniconda3/lib/python3.13/site-packages (from llama-index-core) (0.9.0)\n",
      "Requirement already satisfied: wrapt in /home/hotaisle/miniconda3/lib/python3.13/site-packages (from llama-index-core) (1.17.2)\n",
      "Requirement already satisfied: aiohappyeyeballs>=2.5.0 in /home/hotaisle/miniconda3/lib/python3.13/site-packages (from aiohttp<4,>=3.8.6->llama-index-core) (2.6.1)\n",
      "Requirement already satisfied: aiosignal>=1.1.2 in /home/hotaisle/miniconda3/lib/python3.13/site-packages (from aiohttp<4,>=3.8.6->llama-index-core) (1.4.0)\n",
      "Requirement already satisfied: attrs>=17.3.0 in /home/hotaisle/miniconda3/lib/python3.13/site-packages (from aiohttp<4,>=3.8.6->llama-index-core) (25.3.0)\n",
      "Requirement already satisfied: frozenlist>=1.1.1 in /home/hotaisle/miniconda3/lib/python3.13/site-packages (from aiohttp<4,>=3.8.6->llama-index-core) (1.7.0)\n",
      "Requirement already satisfied: multidict<7.0,>=4.5 in /home/hotaisle/miniconda3/lib/python3.13/site-packages (from aiohttp<4,>=3.8.6->llama-index-core) (6.6.3)\n",
      "Requirement already satisfied: propcache>=0.2.0 in /home/hotaisle/miniconda3/lib/python3.13/site-packages (from aiohttp<4,>=3.8.6->llama-index-core) (0.3.2)\n",
      "Requirement already satisfied: yarl<2.0,>=1.17.0 in /home/hotaisle/miniconda3/lib/python3.13/site-packages (from aiohttp<4,>=3.8.6->llama-index-core) (1.20.1)\n",
      "Requirement already satisfied: griffe in /home/hotaisle/miniconda3/lib/python3.13/site-packages (from banks<3,>=2.0.0->llama-index-core) (1.7.3)\n",
      "Requirement already satisfied: platformdirs in /home/hotaisle/miniconda3/lib/python3.13/site-packages (from banks<3,>=2.0.0->llama-index-core) (4.3.7)\n",
      "Requirement already satisfied: llama-index-instrumentation>=0.1.0 in /home/hotaisle/miniconda3/lib/python3.13/site-packages (from llama-index-workflows<2,>=1.0.1->llama-index-core) (0.2.0)\n",
      "Requirement already satisfied: ollama>=0.5.1 in /home/hotaisle/miniconda3/lib/python3.13/site-packages (from llama-index-llms-ollama) (0.5.1)\n",
      "Requirement already satisfied: certifi in /home/hotaisle/miniconda3/lib/python3.13/site-packages (from httpx>=0.24.1->gradio) (2025.4.26)\n",
      "Requirement already satisfied: httpcore==1.* in /home/hotaisle/miniconda3/lib/python3.13/site-packages (from httpx>=0.24.1->gradio) (1.0.9)\n",
      "Requirement already satisfied: h11>=0.16 in /home/hotaisle/miniconda3/lib/python3.13/site-packages (from httpcore==1.*->httpx>=0.24.1->gradio) (0.16.0)\n",
      "Requirement already satisfied: filelock in /home/hotaisle/miniconda3/lib/python3.13/site-packages (from huggingface-hub>=0.28.1->gradio) (3.18.0)\n",
      "Requirement already satisfied: hf-xet<2.0.0,>=1.1.2 in /home/hotaisle/miniconda3/lib/python3.13/site-packages (from huggingface-hub>=0.28.1->gradio) (1.1.5)\n",
      "Requirement already satisfied: joblib in /home/hotaisle/miniconda3/lib/python3.13/site-packages (from nltk>3.8.1->llama-index-core) (1.5.1)\n",
      "Requirement already satisfied: regex>=2021.8.3 in /home/hotaisle/miniconda3/lib/python3.13/site-packages (from nltk>3.8.1->llama-index-core) (2024.11.6)\n",
      "Requirement already satisfied: six>=1.5 in /home/hotaisle/miniconda3/lib/python3.13/site-packages (from python-dateutil>=2.8.2->pandas<3.0,>=1.0->gradio) (1.17.0)\n",
      "Requirement already satisfied: charset-normalizer<4,>=2 in /home/hotaisle/miniconda3/lib/python3.13/site-packages (from requests>=2.31.0->llama-index-core) (3.3.2)\n",
      "Requirement already satisfied: urllib3<3,>=1.21.1 in /home/hotaisle/miniconda3/lib/python3.13/site-packages (from requests>=2.31.0->llama-index-core) (2.3.0)\n",
      "Requirement already satisfied: markdown-it-py>=2.2.0 in /home/hotaisle/miniconda3/lib/python3.13/site-packages (from rich>=10.11.0->typer<1.0,>=0.12->gradio) (2.2.0)\n",
      "Requirement already satisfied: pygments<3.0.0,>=2.13.0 in /home/hotaisle/miniconda3/lib/python3.13/site-packages (from rich>=10.11.0->typer<1.0,>=0.12->gradio) (2.19.1)\n",
      "Requirement already satisfied: mdurl~=0.1 in /home/hotaisle/miniconda3/lib/python3.13/site-packages (from markdown-it-py>=2.2.0->rich>=10.11.0->typer<1.0,>=0.12->gradio) (0.1.0)\n",
      "Requirement already satisfied: greenlet>=1 in /home/hotaisle/miniconda3/lib/python3.13/site-packages (from sqlalchemy>=1.4.49->sqlalchemy[asyncio]>=1.4.49->llama-index-core) (3.2.3)\n",
      "Requirement already satisfied: mypy-extensions>=0.3.0 in /home/hotaisle/miniconda3/lib/python3.13/site-packages (from typing-inspect>=0.8.0->llama-index-core) (1.1.0)\n",
      "Requirement already satisfied: marshmallow<4.0.0,>=3.18.0 in /home/hotaisle/miniconda3/lib/python3.13/site-packages (from dataclasses-json->llama-index-core) (3.26.1)\n",
      "Requirement already satisfied: colorama>=0.4 in /home/hotaisle/miniconda3/lib/python3.13/site-packages (from griffe->banks<3,>=2.0.0->llama-index-core) (0.4.6)\n"
     ]
    }
   ],
   "source": [
    "!pip install gradio llama-index-core llama-index-llms-ollama llama-index-embeddings-ollama"
   ]
  },
  {
   "cell_type": "markdown",
   "id": "7409afba-3283-497e-8c92-8d782bf172fe",
   "metadata": {},
   "source": [
    "# Sefaria\n",
    "\n",
    "[Sefaria](https://www.sefaria.org/) is a free, open-source library of Jewish texts, including the **Tanakh**, **Talmud**, **Midrash**, **Halakha**, **Kabbalah**, and thousands of commentaries and modern works.  \n",
    "It provides full access in **Hebrew and English** (with many other translations), cross-referenced links between texts, and powerful study tools.\n",
    "\n",
    "Key features:\n",
    "- 📚 Comprehensive collection of classical Jewish sources\n",
    "- 🌐 Free online access with an open API\n",
    "- 🔗 Interlinked texts (e.g., verses → Talmud → commentaries)\n",
    "- 🌍 Supports collaborative translation and commentary projects\n",
    "- 🖥️ Easy to integrate into apps, research, or personal study\n",
    "\n",
    "Sefaria is widely used by students, scholars, educators, and anyone interested in exploring Jewish texts digitally.\n"
   ]
  },
  {
   "cell_type": "markdown",
   "id": "4c28d164-aaeb-44e1-bc9f-2203daca1f1a",
   "metadata": {},
   "source": [
    "### Download the 5 Books of Moses\n",
    "* 'Genesis'\n",
    "* 'Exodus'\n",
    "* 'Leviticus'\n",
    "* 'Numbers'\n",
    "* 'Deuteronomy'"
   ]
  },
  {
   "cell_type": "markdown",
   "id": "3513b73e-ca55-4638-af8f-7d64ac9e4910",
   "metadata": {},
   "source": [
    "In your code, the `params` dict is being passed to `requests.get` like this:\n",
    "\n",
    "```python\n",
    "params={'context': 0, 'commentary': 0, 'pad': 0, 'lang': 'en'}\n",
    "```\n",
    "\n",
    "That means the actual request URL being sent to the Sefaria API will look like:\n",
    "\n",
    "```\n",
    "https://www.sefaria.org/api/texts/Genesis?context=0&commentary=0&pad=0&lang=en\n",
    "```\n",
    "\n",
    "For each book name, the parameters expand to:\n",
    "\n",
    "* **`context=0`** → Don’t include surrounding context verses/lines.\n",
    "* **`commentary=0`** → Don’t include commentary in the response.\n",
    "* **`pad=0`** → Don’t pad the text with empty strings where text is missing.\n",
    "* **`lang=en`** → Request the text in English.\n",
    "\n",
    "So for `\"Exodus\"`, for example, the request URL would be:\n",
    "\n",
    "```\n",
    "https://www.sefaria.org/api/texts/Exodus?context=0&commentary=0&pad=0&lang=en\n",
    "```\n",
    "\n",
    "and the response you get back is JSON, where `data.get(\"text\")` is a list of chapter/verse strings in English.\n",
    "\n",
    "👉 If you’d like, I can show you how the raw JSON looks for one book so you know what to expect. Want me to pull the first few verses of Genesis from the API and show you the structure?\n"
   ]
  },
  {
   "cell_type": "markdown",
   "id": "9ee27434-56fb-47a9-bbcd-2d8f6123f90a",
   "metadata": {},
   "source": [
    "## 📊 Fetch Torah Text\n",
    "1. Into dictionary by book\n",
    "2. Into dataframe split by chapter and verse."
   ]
  },
  {
   "cell_type": "code",
   "execution_count": 24,
   "id": "749141b4-c898-4659-86ac-c013512c5ada",
   "metadata": {},
   "outputs": [],
   "source": [
    "import pandas as pd\n",
    "import requests\n",
    "\n",
    "rows = []\n",
    "for book_name in ['Genesis', 'Exodus', 'Leviticus', 'Numbers', 'Deuteronomy']:\n",
    "    url = f'https://www.sefaria.org/api/texts/{book_name}'\n",
    "    response = requests.get(url, params={'pad': 0, 'lang': 'en'})\n",
    "    data = response.json()\n",
    "    text = data.get(\"text\")\n",
    "    for chapter_idx,chapter in enumerate(text):\n",
    "        for verse_idx,verse in enumerate(chapter):\n",
    "            rows.append((book_name, chapter_idx, verse_idx, verse))\n",
    "        \n",
    "df_bible = pd.DataFrame(rows, columns=['book', 'chapter', 'verse', 'text'])\n",
    "df_bible['text'] = df_bible['text'].str.split(\"<\").str[0]\n",
    "df_bible.dropna(inplace=True)"
   ]
  },
  {
   "cell_type": "code",
   "execution_count": 25,
   "id": "f766f704-5fc4-4e4a-8c09-d040b9dfa047",
   "metadata": {},
   "outputs": [
    {
     "data": {
      "text/html": [
       "<div>\n",
       "<style scoped>\n",
       "    .dataframe tbody tr th:only-of-type {\n",
       "        vertical-align: middle;\n",
       "    }\n",
       "\n",
       "    .dataframe tbody tr th {\n",
       "        vertical-align: top;\n",
       "    }\n",
       "\n",
       "    .dataframe thead th {\n",
       "        text-align: right;\n",
       "    }\n",
       "</style>\n",
       "<table border=\"1\" class=\"dataframe\">\n",
       "  <thead>\n",
       "    <tr style=\"text-align: right;\">\n",
       "      <th></th>\n",
       "      <th>book</th>\n",
       "      <th>chapter</th>\n",
       "      <th>verse</th>\n",
       "      <th>text</th>\n",
       "    </tr>\n",
       "  </thead>\n",
       "  <tbody>\n",
       "    <tr>\n",
       "      <th>0</th>\n",
       "      <td>Genesis</td>\n",
       "      <td>0</td>\n",
       "      <td>0</td>\n",
       "      <td>When God began to create</td>\n",
       "    </tr>\n",
       "    <tr>\n",
       "      <th>1</th>\n",
       "      <td>Genesis</td>\n",
       "      <td>0</td>\n",
       "      <td>1</td>\n",
       "      <td>the earth being unformed and void, with darkne...</td>\n",
       "    </tr>\n",
       "    <tr>\n",
       "      <th>2</th>\n",
       "      <td>Genesis</td>\n",
       "      <td>0</td>\n",
       "      <td>2</td>\n",
       "      <td>God said, “Let there be light”; and there was ...</td>\n",
       "    </tr>\n",
       "    <tr>\n",
       "      <th>3</th>\n",
       "      <td>Genesis</td>\n",
       "      <td>0</td>\n",
       "      <td>3</td>\n",
       "      <td>God saw that the light was good, and God separ...</td>\n",
       "    </tr>\n",
       "    <tr>\n",
       "      <th>4</th>\n",
       "      <td>Genesis</td>\n",
       "      <td>0</td>\n",
       "      <td>4</td>\n",
       "      <td>God called the light Day and called the darkne...</td>\n",
       "    </tr>\n",
       "    <tr>\n",
       "      <th>...</th>\n",
       "      <td>...</td>\n",
       "      <td>...</td>\n",
       "      <td>...</td>\n",
       "      <td>...</td>\n",
       "    </tr>\n",
       "    <tr>\n",
       "      <th>5841</th>\n",
       "      <td>Deuteronomy</td>\n",
       "      <td>33</td>\n",
       "      <td>7</td>\n",
       "      <td>And the Israelites bewailed Moses in the stepp...</td>\n",
       "    </tr>\n",
       "    <tr>\n",
       "      <th>5842</th>\n",
       "      <td>Deuteronomy</td>\n",
       "      <td>33</td>\n",
       "      <td>8</td>\n",
       "      <td>Now Joshua son of Nun was filled with the spir...</td>\n",
       "    </tr>\n",
       "    <tr>\n",
       "      <th>5843</th>\n",
       "      <td>Deuteronomy</td>\n",
       "      <td>33</td>\n",
       "      <td>9</td>\n",
       "      <td>Never again did there arise in Israel a prophe...</td>\n",
       "    </tr>\n",
       "    <tr>\n",
       "      <th>5844</th>\n",
       "      <td>Deuteronomy</td>\n",
       "      <td>33</td>\n",
       "      <td>10</td>\n",
       "      <td>for the various signs and portents that יהוה s...</td>\n",
       "    </tr>\n",
       "    <tr>\n",
       "      <th>5845</th>\n",
       "      <td>Deuteronomy</td>\n",
       "      <td>33</td>\n",
       "      <td>11</td>\n",
       "      <td>and for all the great might and awesome power ...</td>\n",
       "    </tr>\n",
       "  </tbody>\n",
       "</table>\n",
       "<p>5846 rows × 4 columns</p>\n",
       "</div>"
      ],
      "text/plain": [
       "             book  chapter  verse  \\\n",
       "0         Genesis        0      0   \n",
       "1         Genesis        0      1   \n",
       "2         Genesis        0      2   \n",
       "3         Genesis        0      3   \n",
       "4         Genesis        0      4   \n",
       "...           ...      ...    ...   \n",
       "5841  Deuteronomy       33      7   \n",
       "5842  Deuteronomy       33      8   \n",
       "5843  Deuteronomy       33      9   \n",
       "5844  Deuteronomy       33     10   \n",
       "5845  Deuteronomy       33     11   \n",
       "\n",
       "                                                   text  \n",
       "0                              When God began to create  \n",
       "1     the earth being unformed and void, with darkne...  \n",
       "2     God said, “Let there be light”; and there was ...  \n",
       "3     God saw that the light was good, and God separ...  \n",
       "4     God called the light Day and called the darkne...  \n",
       "...                                                 ...  \n",
       "5841  And the Israelites bewailed Moses in the stepp...  \n",
       "5842  Now Joshua son of Nun was filled with the spir...  \n",
       "5843  Never again did there arise in Israel a prophe...  \n",
       "5844  for the various signs and portents that יהוה s...  \n",
       "5845  and for all the great might and awesome power ...  \n",
       "\n",
       "[5846 rows x 4 columns]"
      ]
     },
     "execution_count": 25,
     "metadata": {},
     "output_type": "execute_result"
    }
   ],
   "source": [
    "df_bible"
   ]
  },
  {
   "cell_type": "markdown",
   "id": "705d9c4f-352f-4b45-b271-502fc7c493b6",
   "metadata": {},
   "source": [
    "# LlamaIndex\n",
    "\n",
    "**LlamaIndex** (formerly **GPT Index**) is a Python library that connects **LLMs** (like GPT-4 or LLaMA) to your own data for building **retrieval-augmented generation (RAG)** apps.\n",
    "\n",
    "### 🔍 How It Works\n",
    "\n",
    "LLMs can’t access your PDFs, databases, or APIs directly. LlamaIndex bridges the gap by:\n",
    "\n",
    "1. **Loading** data (PDFs, Notion, SQL, APIs, etc.).\n",
    "2. **Indexing** it into structures (vectors, keywords, lists).\n",
    "3. **Retrieving** relevant chunks for a query.\n",
    "4. **Providing context** to the LLM for accurate answers.\n",
    "\n",
    "### 🧱 Core Pieces\n",
    "\n",
    "* **Data Connectors**: Import from files, sites, or databases.\n",
    "* **Indices**: Store and organize data for retrieval.\n",
    "* **Retrievers**: Find the right chunks per query.\n",
    "* **Engines**: Pair retrievers + LLMs for apps like chatbots and document Q\\&A.\n",
    "\n",
    "### 📖 Example\n",
    "\n",
    "For the Bible, LlamaIndex can:\n",
    "\n",
    "* Load and chunk the text,\n",
    "* Build a vector index,\n",
    "* Retrieve verses about “kosher” or “Exodus 20,”\n",
    "* Feed them to GPT-4/LLaMA-3 to answer naturally, e.g.:\n",
    "  *“The Ten Commandments appear in Exodus 20.”*\n",
    "\n",
    "---\n",
    "\n",
    "\n",
    "\n",
    "# 🧠 Define Ollama LLM and Embedding Models\n",
    "\n",
    "We’ll use ```nomic-embed-text``` for embeddings and Qwen ```qwq``` for answering questions:\n",
    "\n",
    "**NOTE** using a reasoning model is highly recommended in my experience.\n",
    "\n",
    "* Pull these models just in case you don't have them installed yet locally"
   ]
  },
  {
   "cell_type": "markdown",
   "id": "bf2ff4a8-9841-49f3-8fb1-4832812f4d20",
   "metadata": {},
   "source": [
    "## Prerequisite: \n",
    "\n",
    "* Install ```curl -fsSL https://ollama.com/install.sh | sh```\n",
    "\n"
   ]
  },
  {
   "cell_type": "code",
   "execution_count": 26,
   "id": "06580c2f-49ed-4ba3-ab93-c8eee45ba0b4",
   "metadata": {},
   "outputs": [
    {
     "name": "stdout",
     "output_type": "stream",
     "text": [
      "\u001b[?2026h\u001b[?25l\u001b[1Gpulling manifest ⠙ \u001b[K\u001b[?25h\u001b[?2026l\u001b[?2026h\u001b[?25l\u001b[1Gpulling manifest ⠙ \u001b[K\u001b[?25h\u001b[?2026l\u001b[?2026h\u001b[?25l\u001b[1Gpulling manifest \u001b[K\n",
      "pulling 970aa74c0a90: 100% ▕██████████████████▏ 274 MB                         \u001b[K\n",
      "pulling c71d239df917: 100% ▕██████████████████▏  11 KB                         \u001b[K\n",
      "pulling ce4a164fc046: 100% ▕██████████████████▏   17 B                         \u001b[K\n",
      "pulling 31df23ea7daa: 100% ▕██████████████████▏  420 B                         \u001b[K\n",
      "verifying sha256 digest \u001b[K\n",
      "writing manifest \u001b[K\n",
      "success \u001b[K\u001b[?25h\u001b[?2026l\n",
      "\u001b[?2026h\u001b[?25l\u001b[1Gpulling manifest ⠙ \u001b[K\u001b[?25h\u001b[?2026l\u001b[?2026h\u001b[?25l\u001b[1Gpulling manifest ⠙ \u001b[K\u001b[?25h\u001b[?2026l\u001b[?2026h\u001b[?25l\u001b[1Gpulling manifest \u001b[K\n",
      "pulling 7ccc6415b2c7: 100% ▕██████████████████▏  19 GB                         \u001b[K\n",
      "pulling 41190096a061: 100% ▕██████████████████▏ 1.2 KB                         \u001b[K\n",
      "pulling d18a5cc71b84: 100% ▕██████████████████▏  11 KB                         \u001b[K\n",
      "pulling e5229acc2492: 100% ▕██████████████████▏  120 B                         \u001b[K\n",
      "pulling 1972e9972e2e: 100% ▕██████████████████▏  488 B                         \u001b[K\n",
      "verifying sha256 digest \u001b[K\n",
      "writing manifest \u001b[K\n",
      "success \u001b[K\u001b[?25h\u001b[?2026l\n"
     ]
    }
   ],
   "source": [
    "!ollama pull nomic-embed-text\n",
    "!ollama pull qwq"
   ]
  },
  {
   "cell_type": "code",
   "execution_count": 27,
   "id": "7ca52ff5-db89-47f7-9140-97470a06a143",
   "metadata": {},
   "outputs": [
    {
     "name": "stdout",
     "output_type": "stream",
     "text": [
      "NAME                       ID              SIZE      MODIFIED      \n",
      "qwq:latest                 009cb3f08d74    19 GB     7 seconds ago    \n",
      "nomic-embed-text:latest    0a109f422b47    274 MB    8 seconds ago    \n",
      "deepseek-r1:latest         6995872bfe4c    5.2 GB    5 weeks ago      \n",
      "qwen3:latest               500a1f067a9f    5.2 GB    6 weeks ago      \n",
      "qwen:latest                d53d04290064    2.3 GB    6 weeks ago      \n"
     ]
    }
   ],
   "source": [
    "!ollama list"
   ]
  },
  {
   "cell_type": "markdown",
   "id": "44b5558b-bf39-4135-945c-d29cfba5b85a",
   "metadata": {},
   "source": [
    "### Set the LLM + Embedding Model to Ollama Models"
   ]
  },
  {
   "cell_type": "code",
   "execution_count": 29,
   "id": "156ec8fb-85ce-4ed5-9f2a-3d9710daddcb",
   "metadata": {},
   "outputs": [],
   "source": [
    "from llama_index.embeddings.ollama import OllamaEmbedding\n",
    "from llama_index.llms.ollama import Ollama\n",
    "from llama_index.core import Settings\n",
    "\n",
    "# Set Embedding Model\n",
    "Settings.embed_model=OllamaEmbedding('nomic-embed-text:latest')\n",
    "\n",
    "# Set LLM Model\n",
    "Settings.llm = Ollama(model='qwq:latest',stream=True)"
   ]
  },
  {
   "cell_type": "markdown",
   "id": "83206dc7-3f0f-4b5d-9516-b8879187630c",
   "metadata": {},
   "source": [
    "### Parse The Torah DataFrame into Documents for Lllama Index"
   ]
  },
  {
   "cell_type": "code",
   "execution_count": 31,
   "id": "a6a6d8bd-07ee-4c3f-9312-2ef2fbed2315",
   "metadata": {},
   "outputs": [],
   "source": [
    "from llama_index.core import Document\n",
    "\n",
    "documents = []\n",
    "\n",
    "for (book, chapter), group in df_bible.groupby(['book', 'chapter']):\n",
    "    chapter_text = \"\\n\".join(group['text'])\n",
    "    metadata = {\n",
    "        \"book\": book,\n",
    "        \"chapter\": int(chapter),\n",
    "        \"verse_start\": int(group['verse'].min()),\n",
    "        \"verse_end\": int(group['verse'].max()),\n",
    "    }\n",
    "    documents.append(Document(text=chapter_text, metadata=metadata))"
   ]
  },
  {
   "cell_type": "markdown",
   "id": "4610dc90-36bf-482f-a51e-f933d898ae42",
   "metadata": {},
   "source": [
    "### Index Them (I.E. Get Embeddings)"
   ]
  },
  {
   "cell_type": "code",
   "execution_count": 33,
   "id": "7e34e839-cf66-4b5d-a818-eead23bdc12b",
   "metadata": {},
   "outputs": [
    {
     "data": {
      "application/vnd.jupyter.widget-view+json": {
       "model_id": "9c0c4d4e0c0146339b8009b502f22407",
       "version_major": 2,
       "version_minor": 0
      },
      "text/plain": [
       "Parsing nodes:   0%|          | 0/187 [00:00<?, ?it/s]"
      ]
     },
     "metadata": {},
     "output_type": "display_data"
    },
    {
     "data": {
      "application/vnd.jupyter.widget-view+json": {
       "model_id": "855a610d3b3a4934a87ed3001eacca67",
       "version_major": 2,
       "version_minor": 0
      },
      "text/plain": [
       "Generating embeddings:   0%|          | 0/244 [00:00<?, ?it/s]"
      ]
     },
     "metadata": {},
     "output_type": "display_data"
    }
   ],
   "source": [
    "from llama_index.core import VectorStoreIndex\n",
    "index = VectorStoreIndex.from_documents(documents,show_progress=True)"
   ]
  },
  {
   "cell_type": "markdown",
   "id": "ff1d9045-40a0-4ca7-9d37-80a77c2d1868",
   "metadata": {},
   "source": [
    "### Create Query Engine + Chat Engine\n",
    "* Note I used similarity top k = 10. I recommend a highish number for accuracy here"
   ]
  },
  {
   "cell_type": "code",
   "execution_count": 36,
   "id": "4e3ebeb8-23f4-407a-ab95-980e92d35797",
   "metadata": {},
   "outputs": [],
   "source": [
    "from llama_index.core.memory import ChatMemoryBuffer\n",
    "from llama_index.core.chat_engine import CondenseQuestionChatEngine\n",
    "\n",
    "query_engine = index.as_query_engine(similarity_top_k=10)\n",
    "chat_memory = ChatMemoryBuffer.from_defaults(token_limit=4000)"
   ]
  },
  {
   "cell_type": "markdown",
   "id": "68a51b2f-8878-4c6f-a77a-6b93d93b17e9",
   "metadata": {},
   "source": [
    "# Display the Gradio ChatBot"
   ]
  },
  {
   "cell_type": "code",
   "execution_count": null,
   "id": "5603317e-d731-4542-8e27-189e7588bcab",
   "metadata": {},
   "outputs": [],
   "source": [
    "import gradio as gr\n",
    "\n",
    "def chat_interfact(message,history):\n",
    "    response = chat_engine.stream_chat(message)\n",
    "    so_far = ''\n",
    "    for token != '<think>':\n",
    "        so_far += str(token)\n",
    "        yield so_far\n",
    "\n",
    "gr.ChatInterface(chat_engin"
   ]
  }
 ],
 "metadata": {
  "kernelspec": {
   "display_name": "Python (conda base)",
   "language": "python",
   "name": "base"
  },
  "language_info": {
   "codemirror_mode": {
    "name": "ipython",
    "version": 3
   },
   "file_extension": ".py",
   "mimetype": "text/x-python",
   "name": "python",
   "nbconvert_exporter": "python",
   "pygments_lexer": "ipython3",
   "version": "3.13.5"
  }
 },
 "nbformat": 4,
 "nbformat_minor": 5
}
